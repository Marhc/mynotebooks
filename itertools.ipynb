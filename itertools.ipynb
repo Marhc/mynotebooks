{
 "cells": [
  {
   "cell_type": "markdown",
   "id": "af539db3",
   "metadata": {
    "papermill": {
     "duration": 0.007573,
     "end_time": "2023-02-18T20:04:30.625288",
     "exception": false,
     "start_time": "2023-02-18T20:04:30.617715",
     "status": "completed"
    },
    "tags": []
   },
   "source": [
    "# Usando o pacote *Itertools*\n",
    "\n",
    "#### O pacote **`itertools`** oferece várias ferramentas que facilitam o trabalho de análise combinatória e probabilidade."
   ]
  },
  {
   "cell_type": "code",
   "execution_count": 1,
   "id": "2ce17d5d",
   "metadata": {
    "execution": {
     "iopub.execute_input": "2023-02-18T20:04:30.634400Z",
     "iopub.status.busy": "2023-02-18T20:04:30.633739Z",
     "iopub.status.idle": "2023-02-18T20:04:30.645436Z",
     "shell.execute_reply": "2023-02-18T20:04:30.644164Z"
    },
    "papermill": {
     "duration": 0.019589,
     "end_time": "2023-02-18T20:04:30.648379",
     "exception": false,
     "start_time": "2023-02-18T20:04:30.628790",
     "status": "completed"
    },
    "tags": []
   },
   "outputs": [],
   "source": [
    "# importando o pacote\n",
    "import itertools"
   ]
  },
  {
   "cell_type": "markdown",
   "id": "9b113ede",
   "metadata": {
    "papermill": {
     "duration": 0.003069,
     "end_time": "2023-02-18T20:04:30.656671",
     "exception": false,
     "start_time": "2023-02-18T20:04:30.653602",
     "status": "completed"
    },
    "tags": []
   },
   "source": [
    "## 1. Calculando Permutações simples:"
   ]
  },
  {
   "cell_type": "code",
   "execution_count": 2,
   "id": "a0771425",
   "metadata": {
    "execution": {
     "iopub.execute_input": "2023-02-18T20:04:30.665579Z",
     "iopub.status.busy": "2023-02-18T20:04:30.664651Z",
     "iopub.status.idle": "2023-02-18T20:04:30.676533Z",
     "shell.execute_reply": "2023-02-18T20:04:30.675163Z"
    },
    "papermill": {
     "duration": 0.019246,
     "end_time": "2023-02-18T20:04:30.679156",
     "exception": false,
     "start_time": "2023-02-18T20:04:30.659910",
     "status": "completed"
    },
    "tags": []
   },
   "outputs": [
    {
     "data": {
      "text/plain": [
       "[('A', 'B', 'C'),\n",
       " ('A', 'C', 'B'),\n",
       " ('B', 'A', 'C'),\n",
       " ('B', 'C', 'A'),\n",
       " ('C', 'A', 'B'),\n",
       " ('C', 'B', 'A')]"
      ]
     },
     "execution_count": 2,
     "metadata": {},
     "output_type": "execute_result"
    }
   ],
   "source": [
    "# Gerando todas as permutações com tamanho 3\n",
    "list(itertools.permutations(\"ABC\", 3))"
   ]
  },
  {
   "cell_type": "markdown",
   "id": "481ffa4c",
   "metadata": {
    "papermill": {
     "duration": 0.002984,
     "end_time": "2023-02-18T20:04:30.685607",
     "exception": false,
     "start_time": "2023-02-18T20:04:30.682623",
     "status": "completed"
    },
    "tags": []
   },
   "source": [
    "## 2. Calculando Combinações:"
   ]
  },
  {
   "cell_type": "code",
   "execution_count": 3,
   "id": "f104d2c9",
   "metadata": {
    "execution": {
     "iopub.execute_input": "2023-02-18T20:04:30.694974Z",
     "iopub.status.busy": "2023-02-18T20:04:30.694003Z",
     "iopub.status.idle": "2023-02-18T20:04:30.702702Z",
     "shell.execute_reply": "2023-02-18T20:04:30.701137Z"
    },
    "papermill": {
     "duration": 0.016389,
     "end_time": "2023-02-18T20:04:30.705368",
     "exception": false,
     "start_time": "2023-02-18T20:04:30.688979",
     "status": "completed"
    },
    "tags": []
   },
   "outputs": [
    {
     "data": {
      "text/plain": [
       "[('A', 'B'), ('A', 'C'), ('B', 'C')]"
      ]
     },
     "execution_count": 3,
     "metadata": {},
     "output_type": "execute_result"
    }
   ],
   "source": [
    "# Gerando todas as combinações com tamanho 2\n",
    "list(itertools.combinations(\"ABC\", 2))"
   ]
  },
  {
   "cell_type": "markdown",
   "id": "484f73b1",
   "metadata": {
    "papermill": {
     "duration": 0.003104,
     "end_time": "2023-02-18T20:04:30.712066",
     "exception": false,
     "start_time": "2023-02-18T20:04:30.708962",
     "status": "completed"
    },
    "tags": []
   },
   "source": [
    "## 3. Calcula o produto cartesiano de duas listas:"
   ]
  },
  {
   "cell_type": "code",
   "execution_count": 4,
   "id": "c6288b21",
   "metadata": {
    "execution": {
     "iopub.execute_input": "2023-02-18T20:04:30.721658Z",
     "iopub.status.busy": "2023-02-18T20:04:30.721161Z",
     "iopub.status.idle": "2023-02-18T20:04:30.729767Z",
     "shell.execute_reply": "2023-02-18T20:04:30.728440Z"
    },
    "papermill": {
     "duration": 0.017149,
     "end_time": "2023-02-18T20:04:30.732704",
     "exception": false,
     "start_time": "2023-02-18T20:04:30.715555",
     "status": "completed"
    },
    "tags": []
   },
   "outputs": [
    {
     "data": {
      "text/plain": [
       "[(1, 'A'),\n",
       " (1, 'B'),\n",
       " (1, 'C'),\n",
       " (2, 'A'),\n",
       " (2, 'B'),\n",
       " (2, 'C'),\n",
       " (3, 'A'),\n",
       " (3, 'B'),\n",
       " (3, 'C')]"
      ]
     },
     "execution_count": 4,
     "metadata": {},
     "output_type": "execute_result"
    }
   ],
   "source": [
    "# Gerando o produto cartesiano\n",
    "list(itertools.product([1, 2, 3], [\"A\", \"B\", \"C\"]))"
   ]
  },
  {
   "cell_type": "markdown",
   "id": "9f714eb5",
   "metadata": {
    "papermill": {
     "duration": 0.003248,
     "end_time": "2023-02-18T20:04:30.739803",
     "exception": false,
     "start_time": "2023-02-18T20:04:30.736555",
     "status": "completed"
    },
    "tags": []
   },
   "source": [
    "## 4. Concatenando listas"
   ]
  },
  {
   "cell_type": "code",
   "execution_count": 5,
   "id": "61eb261e",
   "metadata": {
    "execution": {
     "iopub.execute_input": "2023-02-18T20:04:30.749137Z",
     "iopub.status.busy": "2023-02-18T20:04:30.748603Z",
     "iopub.status.idle": "2023-02-18T20:04:30.757364Z",
     "shell.execute_reply": "2023-02-18T20:04:30.755800Z"
    },
    "papermill": {
     "duration": 0.016607,
     "end_time": "2023-02-18T20:04:30.759931",
     "exception": false,
     "start_time": "2023-02-18T20:04:30.743324",
     "status": "completed"
    },
    "tags": []
   },
   "outputs": [
    {
     "data": {
      "text/plain": [
       "[1, 2, 3, 4, 5, 6, 7, 8, 9]"
      ]
     },
     "execution_count": 5,
     "metadata": {},
     "output_type": "execute_result"
    }
   ],
   "source": [
    "# Concatenando três listas\n",
    "list(itertools.chain([1, 2, 3], [4, 5, 6], [7, 8, 9]))"
   ]
  }
 ],
 "metadata": {
  "kernelspec": {
   "display_name": "Python 3",
   "language": "python",
   "name": "python3"
  },
  "language_info": {
   "codemirror_mode": {
    "name": "ipython",
    "version": 3
   },
   "file_extension": ".py",
   "mimetype": "text/x-python",
   "name": "python",
   "nbconvert_exporter": "python",
   "pygments_lexer": "ipython3",
   "version": "3.7.12"
  },
  "papermill": {
   "default_parameters": {},
   "duration": 10.588738,
   "end_time": "2023-02-18T20:04:31.589501",
   "environment_variables": {},
   "exception": null,
   "input_path": "__notebook__.ipynb",
   "output_path": "__notebook__.ipynb",
   "parameters": {},
   "start_time": "2023-02-18T20:04:21.000763",
   "version": "2.3.4"
  }
 },
 "nbformat": 4,
 "nbformat_minor": 5
}
