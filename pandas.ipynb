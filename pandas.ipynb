{
 "cells": [
  {
   "cell_type": "markdown",
   "id": "a0c645d0",
   "metadata": {
    "papermill": {
     "duration": 0.004167,
     "end_time": "2023-02-18T21:07:04.340662",
     "exception": false,
     "start_time": "2023-02-18T21:07:04.336495",
     "status": "completed"
    },
    "tags": []
   },
   "source": [
    "# Fundamentos de Pandas"
   ]
  },
  {
   "cell_type": "code",
   "execution_count": 1,
   "id": "7bb36a45",
   "metadata": {
    "_cell_guid": "b1076dfc-b9ad-4769-8c92-a6c4dae69d19",
    "_uuid": "8f2839f25d086af736a60e9eeb907d3b93b6e0e5",
    "execution": {
     "iopub.execute_input": "2023-02-18T21:07:04.349143Z",
     "iopub.status.busy": "2023-02-18T21:07:04.348686Z",
     "iopub.status.idle": "2023-02-18T21:07:04.360590Z",
     "shell.execute_reply": "2023-02-18T21:07:04.359526Z"
    },
    "papermill": {
     "duration": 0.01933,
     "end_time": "2023-02-18T21:07:04.363204",
     "exception": false,
     "start_time": "2023-02-18T21:07:04.343874",
     "status": "completed"
    },
    "tags": []
   },
   "outputs": [],
   "source": [
    "import pandas as pd"
   ]
  },
  {
   "cell_type": "code",
   "execution_count": 2,
   "id": "40c06b34",
   "metadata": {
    "execution": {
     "iopub.execute_input": "2023-02-18T21:07:04.371076Z",
     "iopub.status.busy": "2023-02-18T21:07:04.370692Z",
     "iopub.status.idle": "2023-02-18T21:07:04.376227Z",
     "shell.execute_reply": "2023-02-18T21:07:04.375121Z"
    },
    "papermill": {
     "duration": 0.012336,
     "end_time": "2023-02-18T21:07:04.378672",
     "exception": false,
     "start_time": "2023-02-18T21:07:04.366336",
     "status": "completed"
    },
    "tags": []
   },
   "outputs": [],
   "source": [
    "# Criando um dataframe a partir de uma lista de dicionários\n",
    "data = [{\"Nome\": \"John\", \"Idade\": 32, \"Cidade\": \"New York\"},\n",
    "        {\"Nome\": \"Jane\", \"Idade\": 29, \"Cidade\": \"London\"},\n",
    "        {\"Nome\": \"Jim\", \"Idade\": 35, \"Cidade\": \"Paris\"}]"
   ]
  },
  {
   "cell_type": "code",
   "execution_count": 3,
   "id": "a3823641",
   "metadata": {
    "execution": {
     "iopub.execute_input": "2023-02-18T21:07:04.386654Z",
     "iopub.status.busy": "2023-02-18T21:07:04.386236Z",
     "iopub.status.idle": "2023-02-18T21:07:04.395832Z",
     "shell.execute_reply": "2023-02-18T21:07:04.394758Z"
    },
    "papermill": {
     "duration": 0.016491,
     "end_time": "2023-02-18T21:07:04.398343",
     "exception": false,
     "start_time": "2023-02-18T21:07:04.381852",
     "status": "completed"
    },
    "tags": []
   },
   "outputs": [],
   "source": [
    "df = pd.DataFrame(data)"
   ]
  },
  {
   "cell_type": "code",
   "execution_count": 4,
   "id": "40b973c3",
   "metadata": {
    "execution": {
     "iopub.execute_input": "2023-02-18T21:07:04.406262Z",
     "iopub.status.busy": "2023-02-18T21:07:04.405847Z",
     "iopub.status.idle": "2023-02-18T21:07:04.419170Z",
     "shell.execute_reply": "2023-02-18T21:07:04.417857Z"
    },
    "papermill": {
     "duration": 0.020838,
     "end_time": "2023-02-18T21:07:04.422371",
     "exception": false,
     "start_time": "2023-02-18T21:07:04.401533",
     "status": "completed"
    },
    "tags": []
   },
   "outputs": [
    {
     "name": "stdout",
     "output_type": "stream",
     "text": [
      "   Nome  Idade    Cidade\n",
      "0  John     32  New York\n",
      "1  Jane     29    London\n",
      "2   Jim     35     Paris\n"
     ]
    }
   ],
   "source": [
    "# Exibindo o dataframe\n",
    "print(df)"
   ]
  },
  {
   "cell_type": "code",
   "execution_count": 5,
   "id": "d7816fe6",
   "metadata": {
    "execution": {
     "iopub.execute_input": "2023-02-18T21:07:04.431444Z",
     "iopub.status.busy": "2023-02-18T21:07:04.430978Z",
     "iopub.status.idle": "2023-02-18T21:07:04.460935Z",
     "shell.execute_reply": "2023-02-18T21:07:04.455609Z"
    },
    "papermill": {
     "duration": 0.038557,
     "end_time": "2023-02-18T21:07:04.464952",
     "exception": false,
     "start_time": "2023-02-18T21:07:04.426395",
     "status": "completed"
    },
    "tags": []
   },
   "outputs": [
    {
     "data": {
      "text/html": [
       "<div>\n",
       "<style scoped>\n",
       "    .dataframe tbody tr th:only-of-type {\n",
       "        vertical-align: middle;\n",
       "    }\n",
       "\n",
       "    .dataframe tbody tr th {\n",
       "        vertical-align: top;\n",
       "    }\n",
       "\n",
       "    .dataframe thead th {\n",
       "        text-align: right;\n",
       "    }\n",
       "</style>\n",
       "<table border=\"1\" class=\"dataframe\">\n",
       "  <thead>\n",
       "    <tr style=\"text-align: right;\">\n",
       "      <th></th>\n",
       "      <th>Nome</th>\n",
       "      <th>Idade</th>\n",
       "      <th>Cidade</th>\n",
       "    </tr>\n",
       "  </thead>\n",
       "  <tbody>\n",
       "    <tr>\n",
       "      <th>0</th>\n",
       "      <td>John</td>\n",
       "      <td>32</td>\n",
       "      <td>New York</td>\n",
       "    </tr>\n",
       "    <tr>\n",
       "      <th>1</th>\n",
       "      <td>Jane</td>\n",
       "      <td>29</td>\n",
       "      <td>London</td>\n",
       "    </tr>\n",
       "    <tr>\n",
       "      <th>2</th>\n",
       "      <td>Jim</td>\n",
       "      <td>35</td>\n",
       "      <td>Paris</td>\n",
       "    </tr>\n",
       "  </tbody>\n",
       "</table>\n",
       "</div>"
      ],
      "text/plain": [
       "   Nome  Idade    Cidade\n",
       "0  John     32  New York\n",
       "1  Jane     29    London\n",
       "2   Jim     35     Paris"
      ]
     },
     "execution_count": 5,
     "metadata": {},
     "output_type": "execute_result"
    }
   ],
   "source": [
    "df"
   ]
  },
  {
   "cell_type": "code",
   "execution_count": 6,
   "id": "59d4df8b",
   "metadata": {
    "execution": {
     "iopub.execute_input": "2023-02-18T21:07:04.478191Z",
     "iopub.status.busy": "2023-02-18T21:07:04.477690Z",
     "iopub.status.idle": "2023-02-18T21:07:04.488511Z",
     "shell.execute_reply": "2023-02-18T21:07:04.487557Z"
    },
    "papermill": {
     "duration": 0.021906,
     "end_time": "2023-02-18T21:07:04.492513",
     "exception": false,
     "start_time": "2023-02-18T21:07:04.470607",
     "status": "completed"
    },
    "tags": []
   },
   "outputs": [
    {
     "name": "stdout",
     "output_type": "stream",
     "text": [
      "0    John\n",
      "1    Jane\n",
      "2     Jim\n",
      "Name: Nome, dtype: object\n"
     ]
    }
   ],
   "source": [
    "# Acessando uma coluna\n",
    "print(df[\"Nome\"])"
   ]
  },
  {
   "cell_type": "code",
   "execution_count": 7,
   "id": "433e5778",
   "metadata": {
    "execution": {
     "iopub.execute_input": "2023-02-18T21:07:04.505104Z",
     "iopub.status.busy": "2023-02-18T21:07:04.504150Z",
     "iopub.status.idle": "2023-02-18T21:07:04.518667Z",
     "shell.execute_reply": "2023-02-18T21:07:04.516319Z"
    },
    "papermill": {
     "duration": 0.02598,
     "end_time": "2023-02-18T21:07:04.522663",
     "exception": false,
     "start_time": "2023-02-18T21:07:04.496683",
     "status": "completed"
    },
    "tags": []
   },
   "outputs": [
    {
     "name": "stdout",
     "output_type": "stream",
     "text": [
      "count     3.0\n",
      "mean     32.0\n",
      "std       3.0\n",
      "min      29.0\n",
      "25%      30.5\n",
      "50%      32.0\n",
      "75%      33.5\n",
      "max      35.0\n",
      "Name: Idade, dtype: float64\n"
     ]
    }
   ],
   "source": [
    "# Estatísticas básicas da coluna Idade\n",
    "print(df[\"Idade\"].describe())"
   ]
  },
  {
   "cell_type": "code",
   "execution_count": 8,
   "id": "a3be56ad",
   "metadata": {
    "execution": {
     "iopub.execute_input": "2023-02-18T21:07:04.536738Z",
     "iopub.status.busy": "2023-02-18T21:07:04.535426Z",
     "iopub.status.idle": "2023-02-18T21:07:04.547511Z",
     "shell.execute_reply": "2023-02-18T21:07:04.546494Z"
    },
    "papermill": {
     "duration": 0.022531,
     "end_time": "2023-02-18T21:07:04.552612",
     "exception": false,
     "start_time": "2023-02-18T21:07:04.530081",
     "status": "completed"
    },
    "tags": []
   },
   "outputs": [
    {
     "name": "stdout",
     "output_type": "stream",
     "text": [
      "   Nome  Idade    Cidade\n",
      "0  John     32  New York\n",
      "2   Jim     35     Paris\n"
     ]
    }
   ],
   "source": [
    "# Filtrando linhas com base em um critério\n",
    "idade = df[\"Idade\"]\n",
    "print(df[idade > 30])"
   ]
  }
 ],
 "metadata": {
  "kernelspec": {
   "display_name": "Python 3",
   "language": "python",
   "name": "python3"
  },
  "language_info": {
   "codemirror_mode": {
    "name": "ipython",
    "version": 3
   },
   "file_extension": ".py",
   "mimetype": "text/x-python",
   "name": "python",
   "nbconvert_exporter": "python",
   "pygments_lexer": "ipython3",
   "version": "3.7.12"
  },
  "papermill": {
   "default_parameters": {},
   "duration": 10.71238,
   "end_time": "2023-02-18T21:07:05.278551",
   "environment_variables": {},
   "exception": null,
   "input_path": "__notebook__.ipynb",
   "output_path": "__notebook__.ipynb",
   "parameters": {},
   "start_time": "2023-02-18T21:06:54.566171",
   "version": "2.3.4"
  }
 },
 "nbformat": 4,
 "nbformat_minor": 5
}
