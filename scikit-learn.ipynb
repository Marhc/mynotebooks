{
 "cells": [
  {
   "cell_type": "markdown",
   "id": "8f2d1cc4",
   "metadata": {
    "papermill": {
     "duration": 0.006851,
     "end_time": "2023-02-18T21:03:12.147312",
     "exception": false,
     "start_time": "2023-02-18T21:03:12.140461",
     "status": "completed"
    },
    "tags": []
   },
   "source": [
    "# Usando Scikit-learn\n",
    "\n",
    "### *`Scikit-learn`* é uma biblioteca popular de aprendizado de máquina em Python.\n",
    "\n",
    "### 1. Carregando um conjunto de dados\n",
    "\n",
    "#### Antes de começar com o aprendizado de máquina, precisamos carregar os dados:"
   ]
  },
  {
   "cell_type": "code",
   "execution_count": 1,
   "id": "20a305c6",
   "metadata": {
    "_cell_guid": "b1076dfc-b9ad-4769-8c92-a6c4dae69d19",
    "_uuid": "8f2839f25d086af736a60e9eeb907d3b93b6e0e5",
    "execution": {
     "iopub.execute_input": "2023-02-18T21:03:12.156303Z",
     "iopub.status.busy": "2023-02-18T21:03:12.155620Z",
     "iopub.status.idle": "2023-02-18T21:03:13.331384Z",
     "shell.execute_reply": "2023-02-18T21:03:13.329694Z"
    },
    "papermill": {
     "duration": 1.183597,
     "end_time": "2023-02-18T21:03:13.334163",
     "exception": false,
     "start_time": "2023-02-18T21:03:12.150566",
     "status": "completed"
    },
    "tags": []
   },
   "outputs": [
    {
     "name": "stdout",
     "output_type": "stream",
     "text": [
      "[[5.1 3.5 1.4 0.2]\n",
      " [4.9 3.  1.4 0.2]\n",
      " [4.7 3.2 1.3 0.2]\n",
      " [4.6 3.1 1.5 0.2]\n",
      " [5.  3.6 1.4 0.2]\n",
      " [5.4 3.9 1.7 0.4]\n",
      " [4.6 3.4 1.4 0.3]\n",
      " [5.  3.4 1.5 0.2]\n",
      " [4.4 2.9 1.4 0.2]\n",
      " [4.9 3.1 1.5 0.1]]\n"
     ]
    }
   ],
   "source": [
    "# Importando o conjunto de dados Iris\n",
    "from sklearn.datasets import load_iris\n",
    "\n",
    "# Carregando o conjunto de dados Iris\n",
    "iris = load_iris()\n",
    "\n",
    "# Exibindo os dados\n",
    "print(iris.data[:10])"
   ]
  },
  {
   "cell_type": "markdown",
   "id": "43c21545",
   "metadata": {
    "papermill": {
     "duration": 0.002804,
     "end_time": "2023-02-18T21:03:13.340201",
     "exception": false,
     "start_time": "2023-02-18T21:03:13.337397",
     "status": "completed"
    },
    "tags": []
   },
   "source": [
    "### 2. Dividindo os dados\n",
    "\n",
    "#### Depois de carregar o conjunto de dados, é necessário dividir os dados em dois conjuntos separados de treinamento e teste. O conjunto de treinamento é usado para ajustar o modelo e o conjunto de teste é usado para avaliar o modelo."
   ]
  },
  {
   "cell_type": "code",
   "execution_count": 2,
   "id": "49cbfaaf",
   "metadata": {
    "execution": {
     "iopub.execute_input": "2023-02-18T21:03:13.347861Z",
     "iopub.status.busy": "2023-02-18T21:03:13.347461Z",
     "iopub.status.idle": "2023-02-18T21:03:13.420471Z",
     "shell.execute_reply": "2023-02-18T21:03:13.419616Z"
    },
    "papermill": {
     "duration": 0.080188,
     "end_time": "2023-02-18T21:03:13.423348",
     "exception": false,
     "start_time": "2023-02-18T21:03:13.343160",
     "status": "completed"
    },
    "tags": []
   },
   "outputs": [
    {
     "name": "stdout",
     "output_type": "stream",
     "text": [
      "Número de amostras no conjunto de treinamento:  105\n",
      "Número de amostras no conjunto de teste:  45\n"
     ]
    }
   ],
   "source": [
    "from sklearn.model_selection import train_test_split\n",
    "\n",
    "X_train, X_test, y_train, y_test = train_test_split(iris.data, iris.target, test_size=0.3, random_state=42)\n",
    "\n",
    "# Exibindo o número de amostras no conjunto de treinamento e teste\n",
    "print(\"Número de amostras no conjunto de treinamento: \", X_train.shape[0])\n",
    "print(\"Número de amostras no conjunto de teste: \", X_test.shape[0])"
   ]
  },
  {
   "cell_type": "markdown",
   "id": "3dc8f5b0",
   "metadata": {
    "papermill": {
     "duration": 0.002938,
     "end_time": "2023-02-18T21:03:13.429648",
     "exception": false,
     "start_time": "2023-02-18T21:03:13.426710",
     "status": "completed"
    },
    "tags": []
   },
   "source": [
    "### 3. Treinando um modelo\n",
    "\n",
    "#### Depois de dividir o conjunto de dados, é hora de treinar o modelo. Scikit-learn oferece vários algoritmos que podem ser usados para treinar o modelo."
   ]
  },
  {
   "cell_type": "code",
   "execution_count": 3,
   "id": "9f01e43d",
   "metadata": {
    "execution": {
     "iopub.execute_input": "2023-02-18T21:03:13.437712Z",
     "iopub.status.busy": "2023-02-18T21:03:13.437315Z",
     "iopub.status.idle": "2023-02-18T21:03:13.593328Z",
     "shell.execute_reply": "2023-02-18T21:03:13.592106Z"
    },
    "papermill": {
     "duration": 0.162999,
     "end_time": "2023-02-18T21:03:13.595828",
     "exception": false,
     "start_time": "2023-02-18T21:03:13.432829",
     "status": "completed"
    },
    "tags": []
   },
   "outputs": [
    {
     "data": {
      "text/plain": [
       "DecisionTreeClassifier()"
      ]
     },
     "execution_count": 3,
     "metadata": {},
     "output_type": "execute_result"
    }
   ],
   "source": [
    "from sklearn.tree import DecisionTreeClassifier\n",
    "\n",
    "# Criando o modelo Decision Tree\n",
    "clf = DecisionTreeClassifier()\n",
    "\n",
    "# Treinando o modelo usando o conjunto de treinamento\n",
    "clf.fit(X_train, y_train)"
   ]
  },
  {
   "cell_type": "markdown",
   "id": "a24112b9",
   "metadata": {
    "papermill": {
     "duration": 0.003153,
     "end_time": "2023-02-18T21:03:13.602553",
     "exception": false,
     "start_time": "2023-02-18T21:03:13.599400",
     "status": "completed"
    },
    "tags": []
   },
   "source": [
    "### 4. Fazendo previsões\n",
    "\n",
    "#### Depois de treinar o modelo, podemos fazer previsões no conjunto de teste. Podemos usar a função \"predict\" do modelo treinado para fazer previsões."
   ]
  },
  {
   "cell_type": "code",
   "execution_count": 4,
   "id": "73401557",
   "metadata": {
    "execution": {
     "iopub.execute_input": "2023-02-18T21:03:13.612750Z",
     "iopub.status.busy": "2023-02-18T21:03:13.611445Z",
     "iopub.status.idle": "2023-02-18T21:03:13.620388Z",
     "shell.execute_reply": "2023-02-18T21:03:13.618678Z"
    },
    "papermill": {
     "duration": 0.016635,
     "end_time": "2023-02-18T21:03:13.623062",
     "exception": false,
     "start_time": "2023-02-18T21:03:13.606427",
     "status": "completed"
    },
    "tags": []
   },
   "outputs": [
    {
     "name": "stdout",
     "output_type": "stream",
     "text": [
      "Previsões: [1 0 2 1 1 0 1 2 1 1 2 0 0 0 0 1 2 1 1 2 0 2 0 2 2 2 2 2 0 0 0 0 1 0 0 2 1\n",
      " 0 0 0 2 1 1 0 0]\n",
      "Esperado: [1 0 2 1 1 0 1 2 1 1 2 0 0 0 0 1 2 1 1 2 0 2 0 2 2 2 2 2 0 0 0 0 1 0 0 2 1\n",
      " 0 0 0 2 1 1 0 0]\n"
     ]
    }
   ],
   "source": [
    "# Fazendo previsões no conjunto de teste\n",
    "y_pred = clf.predict(X_test)\n",
    "\n",
    "# Exibindo as previsões\n",
    "print(\"Previsões:\", y_pred)\n",
    "\n",
    "# Exibindo os dados esperados de teste\n",
    "print(\"Esperado:\", y_test)"
   ]
  },
  {
   "cell_type": "markdown",
   "id": "db1501be",
   "metadata": {
    "papermill": {
     "duration": 0.003169,
     "end_time": "2023-02-18T21:03:13.629882",
     "exception": false,
     "start_time": "2023-02-18T21:03:13.626713",
     "status": "completed"
    },
    "tags": []
   },
   "source": [
    "### 5. Avaliando o modelo\n",
    "\n",
    "#### Após fazer as previsões, é hora de avaliar o modelo. Scikit-learn oferece várias métricas de avaliação que podem ser usadas para avaliar o desempenho do modelo."
   ]
  },
  {
   "cell_type": "code",
   "execution_count": 5,
   "id": "3b2a06d5",
   "metadata": {
    "execution": {
     "iopub.execute_input": "2023-02-18T21:03:13.638788Z",
     "iopub.status.busy": "2023-02-18T21:03:13.638090Z",
     "iopub.status.idle": "2023-02-18T21:03:13.645328Z",
     "shell.execute_reply": "2023-02-18T21:03:13.643975Z"
    },
    "papermill": {
     "duration": 0.014504,
     "end_time": "2023-02-18T21:03:13.647737",
     "exception": false,
     "start_time": "2023-02-18T21:03:13.633233",
     "status": "completed"
    },
    "tags": []
   },
   "outputs": [
    {
     "name": "stdout",
     "output_type": "stream",
     "text": [
      "Precisão do modelo:  1.0\n"
     ]
    }
   ],
   "source": [
    "from sklearn.metrics import accuracy_score\n",
    "\n",
    "# Avaliando a precisão do modelo\n",
    "accuracy = accuracy_score(y_test, y_pred)\n",
    "\n",
    "# Exibindo a precisão do modelo\n",
    "print(\"Precisão do modelo: \", accuracy)"
   ]
  }
 ],
 "metadata": {
  "kernelspec": {
   "display_name": "Python 3",
   "language": "python",
   "name": "python3"
  },
  "language_info": {
   "codemirror_mode": {
    "name": "ipython",
    "version": 3
   },
   "file_extension": ".py",
   "mimetype": "text/x-python",
   "name": "python",
   "nbconvert_exporter": "python",
   "pygments_lexer": "ipython3",
   "version": "3.7.12"
  },
  "papermill": {
   "default_parameters": {},
   "duration": 12.604805,
   "end_time": "2023-02-18T21:03:14.673426",
   "environment_variables": {},
   "exception": null,
   "input_path": "__notebook__.ipynb",
   "output_path": "__notebook__.ipynb",
   "parameters": {},
   "start_time": "2023-02-18T21:03:02.068621",
   "version": "2.3.4"
  }
 },
 "nbformat": 4,
 "nbformat_minor": 5
}
