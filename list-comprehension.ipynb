{
 "cells": [
  {
   "cell_type": "markdown",
   "id": "87e88d32",
   "metadata": {
    "papermill": {
     "duration": 0.00803,
     "end_time": "2023-02-18T14:25:13.854244",
     "exception": false,
     "start_time": "2023-02-18T14:25:13.846214",
     "status": "completed"
    },
    "tags": []
   },
   "source": [
    "# Usando *`List Comprehensions`* em Python\n",
    "\n",
    "### 1. PERCORRENDO cada item de um \"iterável\""
   ]
  },
  {
   "cell_type": "code",
   "execution_count": 1,
   "id": "abb67cea",
   "metadata": {
    "_cell_guid": "b1076dfc-b9ad-4769-8c92-a6c4dae69d19",
    "_uuid": "8f2839f25d086af736a60e9eeb907d3b93b6e0e5",
    "execution": {
     "iopub.execute_input": "2023-02-18T14:25:13.863748Z",
     "iopub.status.busy": "2023-02-18T14:25:13.862986Z",
     "iopub.status.idle": "2023-02-18T14:25:13.874566Z",
     "shell.execute_reply": "2023-02-18T14:25:13.873623Z"
    },
    "papermill": {
     "duration": 0.019617,
     "end_time": "2023-02-18T14:25:13.877489",
     "exception": false,
     "start_time": "2023-02-18T14:25:13.857872",
     "status": "completed"
    },
    "tags": []
   },
   "outputs": [
    {
     "name": "stdout",
     "output_type": "stream",
     "text": [
      "['E', 'x', 'e', 'm', 'p', 'l', 'o', ' ', 'd', 'e', ' ', \"'\", 'L', 'i', 's', 't', ' ', 'C', 'o', 'm', 'p', 'r', 'e', 'h', 'e', 'n', 's', 'i', 'o', 'n', \"'\"]\n"
     ]
    }
   ],
   "source": [
    "# variável do tipo string\n",
    "texto = \"Exemplo de 'List Comprehension'\"\n",
    "\n",
    "# Gera uma lista de letras\n",
    "letras = [ letra for letra in texto ] \n",
    "\n",
    "print(letras)"
   ]
  },
  {
   "cell_type": "markdown",
   "id": "905d91d4",
   "metadata": {
    "papermill": {
     "duration": 0.003221,
     "end_time": "2023-02-18T14:25:13.885232",
     "exception": false,
     "start_time": "2023-02-18T14:25:13.882011",
     "status": "completed"
    },
    "tags": []
   },
   "source": [
    "### 2. Aplicando TRANSFORMAÇÕES aos itens de uma lista<br/>(equivalente a fazer um \"map\")"
   ]
  },
  {
   "cell_type": "code",
   "execution_count": 2,
   "id": "66a4c5b1",
   "metadata": {
    "execution": {
     "iopub.execute_input": "2023-02-18T14:25:13.894337Z",
     "iopub.status.busy": "2023-02-18T14:25:13.893918Z",
     "iopub.status.idle": "2023-02-18T14:25:13.899573Z",
     "shell.execute_reply": "2023-02-18T14:25:13.898747Z"
    },
    "papermill": {
     "duration": 0.013335,
     "end_time": "2023-02-18T14:25:13.902066",
     "exception": false,
     "start_time": "2023-02-18T14:25:13.888731",
     "status": "completed"
    },
    "tags": []
   },
   "outputs": [
    {
     "name": "stdout",
     "output_type": "stream",
     "text": [
      "Maiúsculas: ['BANANA', 'LARANJA', 'LIMÃO']\n"
     ]
    }
   ],
   "source": [
    "# Lista de exemplo\n",
    "frutas = [ \"banana\", \"laranja\", \"limão\" ]\n",
    "\n",
    "# Converte cada palavra em maiúsculas\n",
    "maiusculas = [ item.upper() for item in frutas ]\n",
    "\n",
    "print(\"Maiúsculas:\", maiusculas)"
   ]
  },
  {
   "cell_type": "code",
   "execution_count": 3,
   "id": "18d1675a",
   "metadata": {
    "execution": {
     "iopub.execute_input": "2023-02-18T14:25:13.911653Z",
     "iopub.status.busy": "2023-02-18T14:25:13.910430Z",
     "iopub.status.idle": "2023-02-18T14:25:13.917588Z",
     "shell.execute_reply": "2023-02-18T14:25:13.916117Z"
    },
    "papermill": {
     "duration": 0.01452,
     "end_time": "2023-02-18T14:25:13.920228",
     "exception": false,
     "start_time": "2023-02-18T14:25:13.905708",
     "status": "completed"
    },
    "tags": []
   },
   "outputs": [
    {
     "name": "stdout",
     "output_type": "stream",
     "text": [
      "dobro: [2, 4, 6, 8, 10, 12]\n"
     ]
    }
   ],
   "source": [
    "# Outra lista de exemplo\n",
    "intervalo = [ 1, 2, 3, 4, 5, 6 ]\n",
    "\n",
    "# Gera uma nova lista com os números duplicados\n",
    "dobro = [ 2 * x for x in intervalo ]\n",
    "\n",
    "print(\"dobro:\", dobro)"
   ]
  },
  {
   "cell_type": "markdown",
   "id": "f7d291e4",
   "metadata": {
    "papermill": {
     "duration": 0.003264,
     "end_time": "2023-02-18T14:25:13.927235",
     "exception": false,
     "start_time": "2023-02-18T14:25:13.923971",
     "status": "completed"
    },
    "tags": []
   },
   "source": [
    "### 3. FILTRANDO listas"
   ]
  },
  {
   "cell_type": "code",
   "execution_count": 4,
   "id": "085715e6",
   "metadata": {
    "execution": {
     "iopub.execute_input": "2023-02-18T14:25:13.936455Z",
     "iopub.status.busy": "2023-02-18T14:25:13.936048Z",
     "iopub.status.idle": "2023-02-18T14:25:13.945221Z",
     "shell.execute_reply": "2023-02-18T14:25:13.943985Z"
    },
    "papermill": {
     "duration": 0.01704,
     "end_time": "2023-02-18T14:25:13.947809",
     "exception": false,
     "start_time": "2023-02-18T14:25:13.930769",
     "status": "completed"
    },
    "tags": []
   },
   "outputs": [
    {
     "data": {
      "text/plain": [
       "[2, 4, 6]"
      ]
     },
     "execution_count": 4,
     "metadata": {},
     "output_type": "execute_result"
    }
   ],
   "source": [
    "# Usa uma condição para filtrar apenas os números pares\n",
    "pares = [ num for num in intervalo if num % 2 == 0 ]\n",
    "\n",
    "pares"
   ]
  },
  {
   "cell_type": "markdown",
   "id": "20bb1336",
   "metadata": {
    "papermill": {
     "duration": 0.003439,
     "end_time": "2023-02-18T14:25:13.955066",
     "exception": false,
     "start_time": "2023-02-18T14:25:13.951627",
     "status": "completed"
    },
    "tags": []
   },
   "source": [
    "### 4. EXTRAINDO informações de objetos (\"DICIONÁRIOS\")"
   ]
  },
  {
   "cell_type": "code",
   "execution_count": 5,
   "id": "a402b230",
   "metadata": {
    "execution": {
     "iopub.execute_input": "2023-02-18T14:25:13.964307Z",
     "iopub.status.busy": "2023-02-18T14:25:13.963882Z",
     "iopub.status.idle": "2023-02-18T14:25:13.969120Z",
     "shell.execute_reply": "2023-02-18T14:25:13.967996Z"
    },
    "papermill": {
     "duration": 0.012403,
     "end_time": "2023-02-18T14:25:13.971409",
     "exception": false,
     "start_time": "2023-02-18T14:25:13.959006",
     "status": "completed"
    },
    "tags": []
   },
   "outputs": [],
   "source": [
    "# Dicionário de exemplo\n",
    "user = {\n",
    "    \"name\": \"John\",\n",
    "    \"age\": 30\n",
    "}"
   ]
  },
  {
   "cell_type": "code",
   "execution_count": 6,
   "id": "c96aa06e",
   "metadata": {
    "execution": {
     "iopub.execute_input": "2023-02-18T14:25:13.981323Z",
     "iopub.status.busy": "2023-02-18T14:25:13.980551Z",
     "iopub.status.idle": "2023-02-18T14:25:13.987139Z",
     "shell.execute_reply": "2023-02-18T14:25:13.985471Z"
    },
    "papermill": {
     "duration": 0.014768,
     "end_time": "2023-02-18T14:25:13.990222",
     "exception": false,
     "start_time": "2023-02-18T14:25:13.975454",
     "status": "completed"
    },
    "tags": []
   },
   "outputs": [
    {
     "name": "stdout",
     "output_type": "stream",
     "text": [
      "Campos: ['name', 'age']\n"
     ]
    }
   ],
   "source": [
    "# Informação extraida: nomes dos campos\n",
    "nomes_de_campos = [ campo for campo in user.keys() ]\n",
    "\n",
    "print(\"Campos:\", nomes_de_campos)"
   ]
  },
  {
   "cell_type": "code",
   "execution_count": 7,
   "id": "3b5133f3",
   "metadata": {
    "execution": {
     "iopub.execute_input": "2023-02-18T14:25:14.000047Z",
     "iopub.status.busy": "2023-02-18T14:25:13.999635Z",
     "iopub.status.idle": "2023-02-18T14:25:14.006097Z",
     "shell.execute_reply": "2023-02-18T14:25:14.004685Z"
    },
    "papermill": {
     "duration": 0.014877,
     "end_time": "2023-02-18T14:25:14.009051",
     "exception": false,
     "start_time": "2023-02-18T14:25:13.994174",
     "status": "completed"
    },
    "tags": []
   },
   "outputs": [
    {
     "name": "stdout",
     "output_type": "stream",
     "text": [
      "Valores: ['John', 30]\n"
     ]
    }
   ],
   "source": [
    "# Informação extraida: valores\n",
    "valores_dos_campos = [ valor for valor in user.values() ]\n",
    "\n",
    "print(\"Valores:\", valores_dos_campos)"
   ]
  }
 ],
 "metadata": {
  "kernelspec": {
   "display_name": "Python 3",
   "language": "python",
   "name": "python3"
  },
  "language_info": {
   "codemirror_mode": {
    "name": "ipython",
    "version": 3
   },
   "file_extension": ".py",
   "mimetype": "text/x-python",
   "name": "python",
   "nbconvert_exporter": "python",
   "pygments_lexer": "ipython3",
   "version": "3.7.12"
  },
  "papermill": {
   "default_parameters": {},
   "duration": 10.156246,
   "end_time": "2023-02-18T14:25:14.735340",
   "environment_variables": {},
   "exception": null,
   "input_path": "__notebook__.ipynb",
   "output_path": "__notebook__.ipynb",
   "parameters": {},
   "start_time": "2023-02-18T14:25:04.579094",
   "version": "2.3.4"
  }
 },
 "nbformat": 4,
 "nbformat_minor": 5
}
