{
 "cells": [
  {
   "cell_type": "markdown",
   "id": "279ad3e9",
   "metadata": {
    "papermill": {
     "duration": 0.010153,
     "end_time": "2023-02-18T14:35:27.163304",
     "exception": false,
     "start_time": "2023-02-18T14:35:27.153151",
     "status": "completed"
    },
    "tags": []
   },
   "source": [
    "# Listas em Python\n",
    "\n",
    "#### Existem ao menos 4 formas de criar listas em Python."
   ]
  },
  {
   "cell_type": "code",
   "execution_count": 1,
   "id": "55721b4d",
   "metadata": {
    "_cell_guid": "b1076dfc-b9ad-4769-8c92-a6c4dae69d19",
    "_uuid": "8f2839f25d086af736a60e9eeb907d3b93b6e0e5",
    "execution": {
     "iopub.execute_input": "2023-02-18T14:35:27.177875Z",
     "iopub.status.busy": "2023-02-18T14:35:27.177012Z",
     "iopub.status.idle": "2023-02-18T14:35:27.190524Z",
     "shell.execute_reply": "2023-02-18T14:35:27.189676Z"
    },
    "papermill": {
     "duration": 0.024693,
     "end_time": "2023-02-18T14:35:27.194482",
     "exception": false,
     "start_time": "2023-02-18T14:35:27.169789",
     "status": "completed"
    },
    "tags": []
   },
   "outputs": [
    {
     "data": {
      "text/plain": [
       "[1, 2, 3, 4, 5, 6]"
      ]
     },
     "execution_count": 1,
     "metadata": {},
     "output_type": "execute_result"
    }
   ],
   "source": [
    "# 1. Usando expresssões literais\n",
    "numeros = [1, 2, 3, 4, 5, 6]\n",
    "\n",
    "numeros"
   ]
  },
  {
   "cell_type": "code",
   "execution_count": 2,
   "id": "79d65915",
   "metadata": {
    "execution": {
     "iopub.execute_input": "2023-02-18T14:35:27.207591Z",
     "iopub.status.busy": "2023-02-18T14:35:27.206872Z",
     "iopub.status.idle": "2023-02-18T14:35:27.213423Z",
     "shell.execute_reply": "2023-02-18T14:35:27.212626Z"
    },
    "papermill": {
     "duration": 0.016125,
     "end_time": "2023-02-18T14:35:27.216218",
     "exception": false,
     "start_time": "2023-02-18T14:35:27.200093",
     "status": "completed"
    },
    "tags": []
   },
   "outputs": [
    {
     "data": {
      "text/plain": [
       "['H', 'e', 'l', 'l', 'o', ' ', 'L', 'i', 's', 't', 's', '!']"
      ]
     },
     "execution_count": 2,
     "metadata": {},
     "output_type": "execute_result"
    }
   ],
   "source": [
    "# 2. Usando a função 'list'\n",
    "mensagem = \"Hello Lists!\"\n",
    "\n",
    "# Converte a variável do tipo 'string' em uma lista de caracteres\n",
    "caracteres = list(mensagem)\n",
    "\n",
    "caracteres"
   ]
  },
  {
   "cell_type": "code",
   "execution_count": 3,
   "id": "bf0348de",
   "metadata": {
    "execution": {
     "iopub.execute_input": "2023-02-18T14:35:27.228950Z",
     "iopub.status.busy": "2023-02-18T14:35:27.228531Z",
     "iopub.status.idle": "2023-02-18T14:35:27.236218Z",
     "shell.execute_reply": "2023-02-18T14:35:27.234706Z"
    },
    "papermill": {
     "duration": 0.017105,
     "end_time": "2023-02-18T14:35:27.238901",
     "exception": false,
     "start_time": "2023-02-18T14:35:27.221796",
     "status": "completed"
    },
    "tags": []
   },
   "outputs": [
    {
     "data": {
      "text/plain": [
       "[0, 1, 2, 3, 4, 5, 6]"
      ]
     },
     "execution_count": 3,
     "metadata": {},
     "output_type": "execute_result"
    }
   ],
   "source": [
    "# 3. Usando `list comprehension`\n",
    "sequencia = [ x for x in range(7) ]\n",
    "\n",
    "sequencia"
   ]
  },
  {
   "cell_type": "code",
   "execution_count": 4,
   "id": "ded39ae6",
   "metadata": {
    "execution": {
     "iopub.execute_input": "2023-02-18T14:35:27.251956Z",
     "iopub.status.busy": "2023-02-18T14:35:27.251470Z",
     "iopub.status.idle": "2023-02-18T14:35:27.262231Z",
     "shell.execute_reply": "2023-02-18T14:35:27.260985Z"
    },
    "papermill": {
     "duration": 0.020648,
     "end_time": "2023-02-18T14:35:27.265106",
     "exception": false,
     "start_time": "2023-02-18T14:35:27.244458",
     "status": "completed"
    },
    "tags": []
   },
   "outputs": [
    {
     "data": {
      "text/plain": [
       "array([1, 2, 3, 4])"
      ]
     },
     "execution_count": 4,
     "metadata": {},
     "output_type": "execute_result"
    }
   ],
   "source": [
    "# 4. Usando o pacote externo Numpy\n",
    "import numpy as np\n",
    "\n",
    "array = np.array([1, 2, 3, 4])\n",
    "\n",
    "array"
   ]
  },
  {
   "cell_type": "markdown",
   "id": "80793df7",
   "metadata": {
    "papermill": {
     "duration": 0.005414,
     "end_time": "2023-02-18T14:35:27.276270",
     "exception": false,
     "start_time": "2023-02-18T14:35:27.270856",
     "status": "completed"
    },
    "tags": []
   },
   "source": [
    "# Operações básicas com listas\n",
    "\n",
    "### 1. CRIANDO listas"
   ]
  },
  {
   "cell_type": "code",
   "execution_count": 5,
   "id": "ff48a13a",
   "metadata": {
    "execution": {
     "iopub.execute_input": "2023-02-18T14:35:27.290664Z",
     "iopub.status.busy": "2023-02-18T14:35:27.289982Z",
     "iopub.status.idle": "2023-02-18T14:35:27.295130Z",
     "shell.execute_reply": "2023-02-18T14:35:27.293830Z"
    },
    "papermill": {
     "duration": 0.015807,
     "end_time": "2023-02-18T14:35:27.297777",
     "exception": false,
     "start_time": "2023-02-18T14:35:27.281970",
     "status": "completed"
    },
    "tags": []
   },
   "outputs": [],
   "source": [
    "# Criando listas com vários tipo de dados diferentes\n",
    "mistura = [ \"Olá\", 3, True ]\n",
    "\n",
    "# Lista vazia\n",
    "lista = []"
   ]
  },
  {
   "cell_type": "markdown",
   "id": "0eaac478",
   "metadata": {
    "papermill": {
     "duration": 0.005296,
     "end_time": "2023-02-18T14:35:27.308879",
     "exception": false,
     "start_time": "2023-02-18T14:35:27.303583",
     "status": "completed"
    },
    "tags": []
   },
   "source": [
    "### 2. INCLUINDO itens na lista\n",
    "\n",
    "#### Use a função `append`"
   ]
  },
  {
   "cell_type": "code",
   "execution_count": 6,
   "id": "edb91650",
   "metadata": {
    "execution": {
     "iopub.execute_input": "2023-02-18T14:35:27.323271Z",
     "iopub.status.busy": "2023-02-18T14:35:27.322449Z",
     "iopub.status.idle": "2023-02-18T14:35:27.329753Z",
     "shell.execute_reply": "2023-02-18T14:35:27.328644Z"
    },
    "papermill": {
     "duration": 0.017955,
     "end_time": "2023-02-18T14:35:27.332617",
     "exception": false,
     "start_time": "2023-02-18T14:35:27.314662",
     "status": "completed"
    },
    "tags": []
   },
   "outputs": [
    {
     "data": {
      "text/plain": [
       "[1, 2, 3, 4, 5]"
      ]
     },
     "execution_count": 6,
     "metadata": {},
     "output_type": "execute_result"
    }
   ],
   "source": [
    "lista.append(1)\n",
    "lista.append(2)\n",
    "lista.append(3)\n",
    "lista.append(4)\n",
    "lista.append(5)\n",
    "\n",
    "lista"
   ]
  },
  {
   "cell_type": "markdown",
   "id": "f9df20bd",
   "metadata": {
    "papermill": {
     "duration": 0.005419,
     "end_time": "2023-02-18T14:35:27.343919",
     "exception": false,
     "start_time": "2023-02-18T14:35:27.338500",
     "status": "completed"
    },
    "tags": []
   },
   "source": [
    "### 3. REMOVENDO itens da lista\n",
    "\n",
    "#### Use a função `pop`"
   ]
  },
  {
   "cell_type": "code",
   "execution_count": 7,
   "id": "7268bd6a",
   "metadata": {
    "execution": {
     "iopub.execute_input": "2023-02-18T14:35:27.357521Z",
     "iopub.status.busy": "2023-02-18T14:35:27.357074Z",
     "iopub.status.idle": "2023-02-18T14:35:27.363709Z",
     "shell.execute_reply": "2023-02-18T14:35:27.362520Z"
    },
    "papermill": {
     "duration": 0.01665,
     "end_time": "2023-02-18T14:35:27.366452",
     "exception": false,
     "start_time": "2023-02-18T14:35:27.349802",
     "status": "completed"
    },
    "tags": []
   },
   "outputs": [
    {
     "name": "stdout",
     "output_type": "stream",
     "text": [
      "Saiu do final: [1, 2, 3, 4]\n",
      "Saiu do início: [2, 3, 4]\n",
      "Saiu da posição 1: [2, 4]\n"
     ]
    }
   ],
   "source": [
    "# Removendo no final da lista\n",
    "lista.pop()\n",
    "print(\"Saiu do final:\", lista)\n",
    "\n",
    "# Removendo no início da lista\n",
    "lista.pop(0)\n",
    "print(\"Saiu do início:\", lista)\n",
    "\n",
    "# Removendo em qualquer posição\n",
    "lista.pop(1)\n",
    "print(\"Saiu da posição 1:\", lista)"
   ]
  },
  {
   "cell_type": "markdown",
   "id": "b6a62080",
   "metadata": {
    "papermill": {
     "duration": 0.006349,
     "end_time": "2023-02-18T14:35:27.379809",
     "exception": false,
     "start_time": "2023-02-18T14:35:27.373460",
     "status": "completed"
    },
    "tags": []
   },
   "source": [
    "### 4. INSERINDO itens em qualquer posição\n",
    "\n",
    "#### Use a função `insert`."
   ]
  },
  {
   "cell_type": "code",
   "execution_count": 8,
   "id": "0e163df0",
   "metadata": {
    "execution": {
     "iopub.execute_input": "2023-02-18T14:35:27.395305Z",
     "iopub.status.busy": "2023-02-18T14:35:27.394550Z",
     "iopub.status.idle": "2023-02-18T14:35:27.400748Z",
     "shell.execute_reply": "2023-02-18T14:35:27.399350Z"
    },
    "papermill": {
     "duration": 0.01751,
     "end_time": "2023-02-18T14:35:27.404032",
     "exception": false,
     "start_time": "2023-02-18T14:35:27.386522",
     "status": "completed"
    },
    "tags": []
   },
   "outputs": [
    {
     "name": "stdout",
     "output_type": "stream",
     "text": [
      "Entrou no início: [6, 2, 4]\n",
      "Entrou na terceira posição (2): [6, 2, 7, 4]\n"
     ]
    }
   ],
   "source": [
    "# Inserindo item no início\n",
    "lista.insert(0, 6)\n",
    "print(\"Entrou no início:\", lista)\n",
    "\n",
    "# Inserindo item em qualquer posição\n",
    "lista.insert(2, 7)\n",
    "print(\"Entrou na terceira posição (2):\", lista)"
   ]
  },
  {
   "cell_type": "markdown",
   "id": "81277270",
   "metadata": {
    "papermill": {
     "duration": 0.005166,
     "end_time": "2023-02-18T14:35:27.414941",
     "exception": false,
     "start_time": "2023-02-18T14:35:27.409775",
     "status": "completed"
    },
    "tags": []
   },
   "source": [
    "### 5. LENDO itens da lista\n",
    "\n",
    "#### Um item pode ser lido usando sua posição ('index') entre colchetes [ ]"
   ]
  },
  {
   "cell_type": "code",
   "execution_count": 9,
   "id": "b6b0a15d",
   "metadata": {
    "execution": {
     "iopub.execute_input": "2023-02-18T14:35:27.428124Z",
     "iopub.status.busy": "2023-02-18T14:35:27.427369Z",
     "iopub.status.idle": "2023-02-18T14:35:27.435278Z",
     "shell.execute_reply": "2023-02-18T14:35:27.433354Z"
    },
    "papermill": {
     "duration": 0.017492,
     "end_time": "2023-02-18T14:35:27.437907",
     "exception": false,
     "start_time": "2023-02-18T14:35:27.420415",
     "status": "completed"
    },
    "tags": []
   },
   "outputs": [
    {
     "name": "stdout",
     "output_type": "stream",
     "text": [
      "Primeiro item: 6\n",
      "Terceiro item: 7\n",
      "Último item: 4\n"
     ]
    }
   ],
   "source": [
    "primeiro_item = lista[0]\n",
    "print('Primeiro item:', primeiro_item)\n",
    "\n",
    "terceiro_item = lista[2]\n",
    "print('Terceiro item:', terceiro_item)\n",
    "\n",
    "ultimo_item = lista[-1]\n",
    "print('Último item:', ultimo_item)"
   ]
  },
  {
   "cell_type": "markdown",
   "id": "096e0c1f",
   "metadata": {
    "papermill": {
     "duration": 0.005071,
     "end_time": "2023-02-18T14:35:27.448616",
     "exception": false,
     "start_time": "2023-02-18T14:35:27.443545",
     "status": "completed"
    },
    "tags": []
   },
   "source": [
    "### 6. ALTERANDO itens\n",
    "\n",
    "#### Para mudar o valor do item, basta usar '=' e a posição entre colchetes"
   ]
  },
  {
   "cell_type": "code",
   "execution_count": 10,
   "id": "4abba67d",
   "metadata": {
    "execution": {
     "iopub.execute_input": "2023-02-18T14:35:27.461455Z",
     "iopub.status.busy": "2023-02-18T14:35:27.461033Z",
     "iopub.status.idle": "2023-02-18T14:35:27.467126Z",
     "shell.execute_reply": "2023-02-18T14:35:27.465522Z"
    },
    "papermill": {
     "duration": 0.01603,
     "end_time": "2023-02-18T14:35:27.470066",
     "exception": false,
     "start_time": "2023-02-18T14:35:27.454036",
     "status": "completed"
    },
    "tags": []
   },
   "outputs": [
    {
     "name": "stdout",
     "output_type": "stream",
     "text": [
      "[6, 2, 7, 4]\n",
      "[6, 2, 8, 4]\n"
     ]
    }
   ],
   "source": [
    "print(lista)\n",
    "\n",
    "lista[2] = 8\n",
    "\n",
    "print(lista)"
   ]
  },
  {
   "cell_type": "markdown",
   "id": "244f43d0",
   "metadata": {
    "papermill": {
     "duration": 0.005173,
     "end_time": "2023-02-18T14:35:27.480826",
     "exception": false,
     "start_time": "2023-02-18T14:35:27.475653",
     "status": "completed"
    },
    "tags": []
   },
   "source": [
    "### 7. Como obter o TAMANHO da lista\n",
    "\n",
    "#### Use a função `len` para obter o tamanho"
   ]
  },
  {
   "cell_type": "code",
   "execution_count": 11,
   "id": "63f76a8e",
   "metadata": {
    "execution": {
     "iopub.execute_input": "2023-02-18T14:35:27.493931Z",
     "iopub.status.busy": "2023-02-18T14:35:27.493552Z",
     "iopub.status.idle": "2023-02-18T14:35:27.501498Z",
     "shell.execute_reply": "2023-02-18T14:35:27.499937Z"
    },
    "papermill": {
     "duration": 0.01766,
     "end_time": "2023-02-18T14:35:27.504040",
     "exception": false,
     "start_time": "2023-02-18T14:35:27.486380",
     "status": "completed"
    },
    "tags": []
   },
   "outputs": [
    {
     "data": {
      "text/plain": [
       "4"
      ]
     },
     "execution_count": 11,
     "metadata": {},
     "output_type": "execute_result"
    }
   ],
   "source": [
    "tamanho = len(lista)\n",
    "\n",
    "tamanho"
   ]
  }
 ],
 "metadata": {
  "kernelspec": {
   "display_name": "Python 3",
   "language": "python",
   "name": "python3"
  },
  "language_info": {
   "codemirror_mode": {
    "name": "ipython",
    "version": 3
   },
   "file_extension": ".py",
   "mimetype": "text/x-python",
   "name": "python",
   "nbconvert_exporter": "python",
   "pygments_lexer": "ipython3",
   "version": "3.7.12"
  },
  "papermill": {
   "default_parameters": {},
   "duration": 9.937956,
   "end_time": "2023-02-18T14:35:28.234450",
   "environment_variables": {},
   "exception": null,
   "input_path": "__notebook__.ipynb",
   "output_path": "__notebook__.ipynb",
   "parameters": {},
   "start_time": "2023-02-18T14:35:18.296494",
   "version": "2.3.4"
  }
 },
 "nbformat": 4,
 "nbformat_minor": 5
}
